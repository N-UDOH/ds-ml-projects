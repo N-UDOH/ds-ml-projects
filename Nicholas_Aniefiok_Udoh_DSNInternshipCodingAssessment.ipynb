{
  "nbformat": 4,
  "nbformat_minor": 0,
  "metadata": {
    "colab": {
      "provenance": []
    },
    "kernelspec": {
      "name": "python3",
      "display_name": "Python 3"
    },
    "language_info": {
      "name": "python"
    }
  },
  "cells": [
    {
      "cell_type": "markdown",
      "source": [
        "## Introduction\n",
        "\n",
        "Welcome to the DSN Internship Coding Challenge! This assessment will put your Python programming and problem-solving abilities to the test. The assessment is divided into two sections:\n",
        "\n",
        "- Section one of the assessmnet will require you to build a recall evaluation metric without using any external libraries.\n",
        "\n",
        "- Section two of the assessment will put your knowledge of \"list\" in Python to the test.\n",
        "\n",
        "Good luck! If you have questions about the framing of the questions, please contact **recruitment@datasciencenigeria.ai**\n",
        "\n",
        "### How to Use and Submit this Notebook.\n",
        "- Make a copy of this document and rename it **Firstname_Lastname_DSNInternshipCodingAssessment.ipynb**\n",
        "- Before attempting to submit, ensure that you have ran all of the cells in your notebook and the output visible.\n",
        "- Once you’ve completed all tasks, save and download a copy of the notebook as .ipynb\n",
        "- Submit a link (make sure that the link is set to \"Anyone on the internet with the link can view\") and the downloaded copy of your final notebook via this [link](https://forms.gle/aWZFxBHZwsedobm19).\n",
        "\n",
        "### What Not to Do.\n",
        "- Do not share this document with any external party\n",
        "- No teamwork is permitted\n",
        "- No external libraries like (NumPy, Pandas, Keras, etc.) is allowed. Use only pure python\n",
        "- After submitting a copy of your script, you are not permitted to make any changes to the online version; any discrepancy between the online and submitted copies will render your application null and void."
      ],
      "metadata": {
        "id": "mNzNT79JEDS1"
      }
    },
    {
      "cell_type": "markdown",
      "source": [
        "## Section One\n",
        "\n",
        "Without using any external libraries (NumPy, Pandas, Keras, SkLearn etc.), build a **Recall Algorithm** that is capable of handling only binary classification (You can assume the positive label is 0). The function should take in two keyword arguments, “actual” and “predicted”. Both arguments are a list of numbers (integers) of equal length. The function should return a float value between 0 and 1 rounded up to two significant figures.\n",
        "\n",
        "**Example 1:**\n",
        "\n",
        "Input: actual = [0, 1, 0, 0, 1, 1], predicted = [0, 0, 1, 0, 0, 1]\n",
        "\n",
        "recall (actual, predicted)\n",
        "\n",
        "Output: 0.67\n",
        "\n",
        "**Example 2:**\n",
        "\n",
        "Input: actual = [1, 1, 1, 0, 1, 0, 0, 1], predicted = [1, 0, 1, 0, 0, 1, 0, 1]  \n",
        "\n",
        "recall (actual, predicted)\n",
        "\n",
        "Output: 0.67"
      ],
      "metadata": {
        "id": "wZ2tUoaxMLM6"
      }
    },
    {
      "cell_type": "code",
      "execution_count": null,
      "metadata": {
        "id": "Gv4ehXiyD8Rx",
        "colab": {
          "base_uri": "https://localhost:8080/",
          "height": 130
        },
        "outputId": "ee64cd18-bd91-4a3c-f9ff-7e7a496b6284"
      },
      "outputs": [
        {
          "output_type": "error",
          "ename": "IndentationError",
          "evalue": "ignored",
          "traceback": [
            "\u001b[0;36m  File \u001b[0;32m\"<tokenize>\"\u001b[0;36m, line \u001b[0;32m5\u001b[0m\n\u001b[0;31m    if actual[i] == predicted[i]:\u001b[0m\n\u001b[0m    ^\u001b[0m\n\u001b[0;31mIndentationError\u001b[0m\u001b[0;31m:\u001b[0m unindent does not match any outer indentation level\n"
          ]
        }
      ],
      "source": [
        "# Do not change the name of the function and arguments\n",
        "def recall (actual, predicted):\n",
        "    right = 0\n",
        "\t  for i in range(len(actual)):\n",
        "        if actual[i] == predicted[i]:\n",
        "            right + 0 = 1\n",
        "    return round(right/float(len(actual)) * 100.0, 2)\n",
        ""
      ]
    },
    {
      "cell_type": "code",
      "source": [
        "# Do not edit this section\n",
        "result_1 = recall([0, 1, 0, 0, 1, 1], [0, 0, 1, 0, 0, 1])\n",
        "\n",
        "print(f\"Example 1: The Recall value is {result_1}\")\n",
        "\n",
        "result_2 = recall([1, 1, 1, 0, 1, 0, 0, 1], [1, 0, 1, 0, 0, 1, 0, 1])\n",
        "\n",
        "print(f\"Example 2: The Recall value is {result_2}\")"
      ],
      "metadata": {
        "colab": {
          "base_uri": "https://localhost:8080/"
        },
        "id": "fMMrsNkhPJyc",
        "outputId": "9c24833b-722c-4d79-a454-e7dad431fb47"
      },
      "execution_count": null,
      "outputs": [
        {
          "output_type": "stream",
          "name": "stdout",
          "text": [
            "Example 1: The Recall value is 0.0\n",
            "Example 2: The Recall value is 0.0\n"
          ]
        }
      ]
    },
    {
      "cell_type": "markdown",
      "source": [
        "## Section Two\n",
        "\n",
        "Write a function flatten_lists that takes in a list of lists and outputs a sorted list of elements of sublists of the input list.\n",
        "\n",
        "> **Example 1:**\n",
        ">\n",
        "> Input: actual = [ [2,13,44], [6,7] ]\n",
        ">\n",
        "> flatten_lists (list_of_list)\n",
        ">\n",
        "> Output: [2, 6, 7, 13, 44]\n",
        "\n",
        "> **Example 2:**\n",
        ">\n",
        "> Input: actual = [ [10], [90, 30], [11,12] ]\n",
        ">\n",
        "> flatten_lists (list_of_list)\n",
        ">\n",
        "> Output: [10, 11, 12, 30, 90]\n",
        "\n",
        "\n"
      ],
      "metadata": {
        "id": "ajatrt0HEB7e"
      }
    },
    {
      "cell_type": "code",
      "source": [
        "# Do not change the name of the function and arguments\n",
        "\n",
        "def flatten(list_of_lists):\n",
        "  flat_list = []\n",
        "  for value in list_of_lists:\n",
        "    if type(value) is int:\n",
        "      for item in value:\n",
        "        flat_list.append(item)\n",
        "\n",
        "      return flat_list.sort()"
      ],
      "metadata": {
        "id": "410j-TJlO5t6"
      },
      "execution_count": null,
      "outputs": []
    },
    {
      "cell_type": "code",
      "source": [
        "# Do not edit this section\n",
        "result_1 = flatten_lists([ [2,13,44], [6,7] ])\n",
        "\n",
        "print(f\"Example 1: The flatten lists is {result_1}\")\n",
        "\n",
        "result_2 = flatten_lists([ [10], [90, 30], [11,12] ])\n",
        "\n",
        "print(f\"Example 2: The flatten lists is {result_2}\")"
      ],
      "metadata": {
        "id": "8Cex0bAaO_bG"
      },
      "execution_count": null,
      "outputs": []
    },
    {
      "cell_type": "markdown",
      "source": [
        "## Addtional Point\n",
        "Kindly outline your solution for the two section, explaining your solution and why you favour one method over another."
      ],
      "metadata": {
        "id": "xg5DiYB1S6Nk"
      }
    },
    {
      "cell_type": "markdown",
      "source": [
        "### Section 1\n",
        "my solution .....\n",
        "\n",
        "### Section 2\n",
        "my solution ....."
      ],
      "metadata": {
        "id": "X0UW_2LeTpDz"
      }
    }
  ]
}