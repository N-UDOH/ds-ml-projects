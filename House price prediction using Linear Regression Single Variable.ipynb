{
 "cells": [
  {
   "cell_type": "markdown",
   "id": "9e77fd08",
   "metadata": {},
   "source": [
    "# Project Title: House price prediction using Linear Regression Single Variable"
   ]
  },
  {
   "cell_type": "markdown",
   "id": "a0f941dd",
   "metadata": {},
   "source": [
    "## About the Project\n",
    " This project aims to predict house prices based on a single feature—area—using Linear Regression. The dataset, collected from Jomav Limited, a real estate company based in Ondo City, Nigeria, contains 1460 entries with two columns: area (measured in square feet) and price (the house price in Nigerian Naira).\n",
    " \n",
    "## Goal\n",
    "* To predict house prices based on the area of the house using Linear Regression. \n",
    "* To develop a predictive model that can estimate the price of a house given its area.\n",
    "* To investigate the relationship between the size of a property (in square feet) and its market price.\n",
    "* To provide insights into the real estate market dynamics in Ondo City, Nigeria, based on the dataset provided by Jomav Limited, a real estate company.\n",
    "* To build an effective linear regression model that accurately predicts house prices, helping stakeholders such as buyers, sellers, and real estate agents make informed decisions based on the area of a property.\n",
    "## Methodologies\n",
    "* Data Collection: The dataset used in this project was collected from Jomav Limited, a real estate company in Ondo City, Nigeria. It consists of 1460 entries and includes two columns: area (in square feet) and price (in Nigerian Naira).It represents real estate properties in a specific city, providing a focused view of the local market trends.\n",
    "* Data Preprocessing: * Data Cleaning is the initial steps which involve inspecting the data for any missing or erroneous values. If any missing values are found in the dataset, they will be handled using suitable techniques, such as imputation or removal. * Scatter plots and line plots were used in data visualization in plotting the data to understand the relationship between area and price.\n",
    "* Feature Selection: Since the dataset consists of only two variables, area is the sole feature used for training the model.\n",
    "## Model Development:\n",
    "\n",
    "Linear Regression: A simple linear regression model will be used, with area as the independent variable and price as the dependent variable. Linear regression is chosen due to its simplicity and effectiveness in establishing a linear relationship between a single independent variable and the dependent variable.\n",
    "The model will be trained using a portion of the data and tested on a separate validation set to evaluate its performance.\n",
    "# Model Evaluation:\n",
    "* Metrics: The performance of the linear regression model will be assessed using standard metrics such as Mean Squared Error (MSE) and R-squared (R²). These metrics will provide insight into how well the model predicts house prices based on area.\n",
    "* Training and Testing Split: The dataset will be divided into training and testing sets to ensure that the model generalizes well to new data. A typical split would be 80% for training and 20% for testing.\n",
    "# Prediction:\n",
    "After training, the model will be used to make predictions on new or unseen data. The goal is to evaluate how accurately the model predicts house prices based on the area feature.\n",
    "# Visualization:\n",
    "* After building the model, results will be visualized using scatter plots with the regression line and prediction graphs to better illustrate how well the model fits the data.\n",
    "# Insight Generation:\n",
    "* The final stage will involve interpreting the results of the regression model and generating insights regarding the relationship between area and price, particularly focusing on the real estate market in Ondo City, Nigeria. \n",
    "# Skills Developed\n",
    "* Data Preprocessing\n",
    "* Data Visualization\n",
    "* Machine Learning\n",
    "* Model Evaluation\n",
    "* Prediction and Insight Generation"
   ]
  },
  {
   "cell_type": "code",
   "execution_count": 45,
   "id": "ddaaf32b",
   "metadata": {},
   "outputs": [],
   "source": [
    "import pandas as pd\n",
    "import numpy as np\n",
    "import matplotlib.pyplot as plt\n",
    "from sklearn.linear_model import LinearRegression\n",
    "from sklearn.model_selection  import train_test_split "
   ]
  },
  {
   "cell_type": "code",
   "execution_count": 46,
   "id": "a9eb9f82",
   "metadata": {},
   "outputs": [],
   "source": [
    "data = r\"C:\\Users\\UDOH\\Desktop\\ALL PANTECH\\11_HousePricePredictionusing_LinearRegression\\11_HousePricePredictionusing_LinearRegression\\dataset.csv\""
   ]
  },
  {
   "cell_type": "code",
   "execution_count": 47,
   "id": "621d044f",
   "metadata": {},
   "outputs": [],
   "source": [
    "df = pd.read_csv(data)"
   ]
  },
  {
   "cell_type": "code",
   "execution_count": 48,
   "id": "cd2b95a6",
   "metadata": {},
   "outputs": [
    {
     "data": {
      "text/html": [
       "<div>\n",
       "<style scoped>\n",
       "    .dataframe tbody tr th:only-of-type {\n",
       "        vertical-align: middle;\n",
       "    }\n",
       "\n",
       "    .dataframe tbody tr th {\n",
       "        vertical-align: top;\n",
       "    }\n",
       "\n",
       "    .dataframe thead th {\n",
       "        text-align: right;\n",
       "    }\n",
       "</style>\n",
       "<table border=\"1\" class=\"dataframe\">\n",
       "  <thead>\n",
       "    <tr style=\"text-align: right;\">\n",
       "      <th></th>\n",
       "      <th>area</th>\n",
       "      <th>price</th>\n",
       "    </tr>\n",
       "  </thead>\n",
       "  <tbody>\n",
       "    <tr>\n",
       "      <th>0</th>\n",
       "      <td>8450</td>\n",
       "      <td>208500</td>\n",
       "    </tr>\n",
       "    <tr>\n",
       "      <th>1</th>\n",
       "      <td>9600</td>\n",
       "      <td>181500</td>\n",
       "    </tr>\n",
       "    <tr>\n",
       "      <th>2</th>\n",
       "      <td>11250</td>\n",
       "      <td>223500</td>\n",
       "    </tr>\n",
       "    <tr>\n",
       "      <th>3</th>\n",
       "      <td>9550</td>\n",
       "      <td>140000</td>\n",
       "    </tr>\n",
       "    <tr>\n",
       "      <th>4</th>\n",
       "      <td>14260</td>\n",
       "      <td>250000</td>\n",
       "    </tr>\n",
       "  </tbody>\n",
       "</table>\n",
       "</div>"
      ],
      "text/plain": [
       "    area   price\n",
       "0   8450  208500\n",
       "1   9600  181500\n",
       "2  11250  223500\n",
       "3   9550  140000\n",
       "4  14260  250000"
      ]
     },
     "execution_count": 48,
     "metadata": {},
     "output_type": "execute_result"
    }
   ],
   "source": [
    "df.head()"
   ]
  },
  {
   "cell_type": "code",
   "execution_count": 49,
   "id": "bc651d2d",
   "metadata": {},
   "outputs": [
    {
     "name": "stdout",
     "output_type": "stream",
     "text": [
      "<class 'pandas.core.frame.DataFrame'>\n",
      "RangeIndex: 1460 entries, 0 to 1459\n",
      "Data columns (total 2 columns):\n",
      " #   Column  Non-Null Count  Dtype\n",
      "---  ------  --------------  -----\n",
      " 0   area    1460 non-null   int64\n",
      " 1   price   1460 non-null   int64\n",
      "dtypes: int64(2)\n",
      "memory usage: 22.9 KB\n"
     ]
    }
   ],
   "source": [
    "df.info()"
   ]
  },
  {
   "cell_type": "code",
   "execution_count": 50,
   "id": "424c3bab",
   "metadata": {},
   "outputs": [
    {
     "data": {
      "text/plain": [
       "area     0\n",
       "price    0\n",
       "dtype: int64"
      ]
     },
     "execution_count": 50,
     "metadata": {},
     "output_type": "execute_result"
    }
   ],
   "source": [
    "df.isnull().sum()"
   ]
  },
  {
   "cell_type": "code",
   "execution_count": 51,
   "id": "66457c14",
   "metadata": {},
   "outputs": [
    {
     "data": {
      "text/plain": [
       "(1460, 2)"
      ]
     },
     "execution_count": 51,
     "metadata": {},
     "output_type": "execute_result"
    }
   ],
   "source": [
    "df.shape"
   ]
  },
  {
   "cell_type": "markdown",
   "id": "c4bd16a5",
   "metadata": {},
   "source": [
    "### Visualize the dataset"
   ]
  },
  {
   "cell_type": "code",
   "execution_count": 52,
   "id": "dc113aa3",
   "metadata": {},
   "outputs": [
    {
     "data": {
      "text/plain": [
       "<matplotlib.collections.PathCollection at 0x281a560a490>"
      ]
     },
     "execution_count": 52,
     "metadata": {},
     "output_type": "execute_result"
    },
    {
     "data": {
      "image/png": "[encoded data removed]",
      "text/plain": [
       "<Figure size 432x288 with 1 Axes>"
      ]
     },
     "metadata": {
      "needs_background": "light"
     },
     "output_type": "display_data"
    }
   ],
   "source": [
    "plt.xlabel('Area')\n",
    "plt.ylabel('price')\n",
    "plt.scatter(df.area,df.price,color='red',marker='*')"
   ]
  },
  {
   "cell_type": "markdown",
   "id": "bfbbb8da",
   "metadata": {},
   "source": [
    "### SEGREGATE DATASET INTO INPUT X and OUTPUT "
   ]
  },
  {
   "cell_type": "code",
   "execution_count": 53,
   "id": "d92c3004",
   "metadata": {},
   "outputs": [
    {
     "data": {
      "text/html": [
       "<div>\n",
       "<style scoped>\n",
       "    .dataframe tbody tr th:only-of-type {\n",
       "        vertical-align: middle;\n",
       "    }\n",
       "\n",
       "    .dataframe tbody tr th {\n",
       "        vertical-align: top;\n",
       "    }\n",
       "\n",
       "    .dataframe thead th {\n",
       "        text-align: right;\n",
       "    }\n",
       "</style>\n",
       "<table border=\"1\" class=\"dataframe\">\n",
       "  <thead>\n",
       "    <tr style=\"text-align: right;\">\n",
       "      <th></th>\n",
       "      <th>area</th>\n",
       "    </tr>\n",
       "  </thead>\n",
       "  <tbody>\n",
       "    <tr>\n",
       "      <th>0</th>\n",
       "      <td>8450</td>\n",
       "    </tr>\n",
       "    <tr>\n",
       "      <th>1</th>\n",
       "      <td>9600</td>\n",
       "    </tr>\n",
       "    <tr>\n",
       "      <th>2</th>\n",
       "      <td>11250</td>\n",
       "    </tr>\n",
       "    <tr>\n",
       "      <th>3</th>\n",
       "      <td>9550</td>\n",
       "    </tr>\n",
       "    <tr>\n",
       "      <th>4</th>\n",
       "      <td>14260</td>\n",
       "    </tr>\n",
       "    <tr>\n",
       "      <th>...</th>\n",
       "      <td>...</td>\n",
       "    </tr>\n",
       "    <tr>\n",
       "      <th>1455</th>\n",
       "      <td>7917</td>\n",
       "    </tr>\n",
       "    <tr>\n",
       "      <th>1456</th>\n",
       "      <td>13175</td>\n",
       "    </tr>\n",
       "    <tr>\n",
       "      <th>1457</th>\n",
       "      <td>9042</td>\n",
       "    </tr>\n",
       "    <tr>\n",
       "      <th>1458</th>\n",
       "      <td>9717</td>\n",
       "    </tr>\n",
       "    <tr>\n",
       "      <th>1459</th>\n",
       "      <td>9937</td>\n",
       "    </tr>\n",
       "  </tbody>\n",
       "</table>\n",
       "<p>1460 rows × 1 columns</p>\n",
       "</div>"
      ],
      "text/plain": [
       "       area\n",
       "0      8450\n",
       "1      9600\n",
       "2     11250\n",
       "3      9550\n",
       "4     14260\n",
       "...     ...\n",
       "1455   7917\n",
       "1456  13175\n",
       "1457   9042\n",
       "1458   9717\n",
       "1459   9937\n",
       "\n",
       "[1460 rows x 1 columns]"
      ]
     },
     "execution_count": 53,
     "metadata": {},
     "output_type": "execute_result"
    }
   ],
   "source": [
    "x = df.drop('price', axis='columns')\n",
    "x"
   ]
  },
  {
   "cell_type": "code",
   "execution_count": 54,
   "id": "80d91bee",
   "metadata": {},
   "outputs": [
    {
     "data": {
      "text/plain": [
       "0       208500\n",
       "1       181500\n",
       "2       223500\n",
       "3       140000\n",
       "4       250000\n",
       "         ...  \n",
       "1455    175000\n",
       "1456    210000\n",
       "1457    266500\n",
       "1458    142125\n",
       "1459    147500\n",
       "Name: price, Length: 1460, dtype: int64"
      ]
     },
     "execution_count": 54,
     "metadata": {},
     "output_type": "execute_result"
    }
   ],
   "source": [
    "Y = df.price\n",
    "Y"
   ]
  },
  {
   "cell_type": "markdown",
   "id": "2fc83eb4",
   "metadata": {},
   "source": [
    "#### Training Dataset Using Linear Regression"
   ]
  },
  {
   "cell_type": "code",
   "execution_count": 55,
   "id": "42854f17",
   "metadata": {},
   "outputs": [
    {
     "data": {
      "text/plain": [
       "LinearRegression()"
      ]
     },
     "execution_count": 55,
     "metadata": {},
     "output_type": "execute_result"
    }
   ],
   "source": [
    "model = LinearRegression()\n",
    "model.fit(x,Y)"
   ]
  },
  {
   "cell_type": "code",
   "execution_count": 42,
   "id": "97cd002f",
   "metadata": {},
   "outputs": [
    {
     "name": "stderr",
     "output_type": "stream",
     "text": [
      "C:\\Users\\UDOH\\New folder\\lib\\site-packages\\sklearn\\base.py:450: UserWarning: X does not have valid feature names, but LinearRegression was fitted with feature names\n",
      "  warnings.warn(\n"
     ]
    },
    {
     "data": {
      "image/png": "[encoded data removed]",
      "text/plain": [
       "<Figure size 432x288 with 1 Axes>"
      ]
     },
     "metadata": {
      "needs_background": "light"
     },
     "output_type": "display_data"
    }
   ],
   "source": [
    "# Plot regression line\n",
    "x_line = np.linspace(x.min(), x.max(), 100).reshape(-1, 1)\n",
    "Y_line = model.predict(x_line)\n",
    "plt.plot(x_line, Y_line, color='green', label='Regression Line')\n",
    "\n",
    "plt.title('House Price Prediction')\n",
    "plt.xlabel('Area (sq. ft.)')\n",
    "plt.ylabel('Price (NGN)')\n",
    "plt.legend()\n",
    "plt.grid(True)\n",
    "plt.show()"
   ]
  },
  {
   "cell_type": "code",
   "execution_count": 43,
   "id": "ba5f2939",
   "metadata": {},
   "outputs": [
    {
     "data": {
      "image/png": "[encoded data removed]",
      "text/plain": [
       "<Figure size 576x360 with 1 Axes>"
      ]
     },
     "metadata": {
      "needs_background": "light"
     },
     "output_type": "display_data"
    }
   ],
   "source": [
    "# Visualization: Prediction graph\n",
    "plt.figure(figsize=(8, 5))\n",
    "plt.scatter(x_test, Y_test, color='red', label='Actual Prices')\n",
    "plt.scatter(x_test, Y_pred, color='green', label='Predicted Prices', marker='x')\n",
    "plt.title('Actual vs Predicted Prices')\n",
    "plt.xlabel('Area (sq. ft.)')\n",
    "plt.ylabel('Price (NGN)')\n",
    "plt.legend()\n",
    "plt.grid(True)\n",
    "plt.show()"
   ]
  },
  {
   "cell_type": "markdown",
   "id": "0fd749eb",
   "metadata": {},
   "source": [
    "#### Predicted Price for Landsq.Feet of 1500"
   ]
  },
  {
   "cell_type": "code",
   "execution_count": 71,
   "id": "060e3227",
   "metadata": {},
   "outputs": [
    {
     "name": "stdout",
     "output_type": "stream",
     "text": [
      "Enter LandAreainSqFt: 6660\n",
      "The Price is: 172822\n"
     ]
    },
    {
     "name": "stderr",
     "output_type": "stream",
     "text": [
      "C:\\Users\\UDOH\\New folder\\lib\\site-packages\\sklearn\\base.py:450: UserWarning: X does not have valid feature names, but LinearRegression was fitted with feature names\n",
      "  warnings.warn(\n"
     ]
    }
   ],
   "source": [
    "# Predicting price based on user input\n",
    "LandAreainSqFt = int(input(\"Enter LandAreainSqFt: \"))\n",
    "PredictedmodelResult = round(model.predict([[LandAreainSqFt]])[0])\n",
    "print(\"The Price is:\", PredictedmodelResult)\n"
   ]
  },
  {
   "cell_type": "code",
   "execution_count": null,
   "id": "025eb530",
   "metadata": {},
   "outputs": [],
   "source": [
    "### To Check the accuracy of the model"
   ]
  },
  {
   "cell_type": "markdown",
   "id": "aa4f8050",
   "metadata": {},
   "source": [
    "Theory calculation\n",
    "Y=mx + b (m is the coefficient and b is the intercept)"
   ]
  },
  {
   "cell_type": "code",
   "execution_count": 72,
   "id": "858fe8e8",
   "metadata": {},
   "outputs": [
    {
     "name": "stdout",
     "output_type": "stream",
     "text": [
      "[2.09997195]\n"
     ]
    }
   ],
   "source": [
    "# To find the coefficient m\n",
    "m=model.coef_\n",
    "print(m)"
   ]
  },
  {
   "cell_type": "code",
   "execution_count": 73,
   "id": "a6de60b4",
   "metadata": {},
   "outputs": [
    {
     "name": "stdout",
     "output_type": "stream",
     "text": [
      "158836.15189687657\n"
     ]
    }
   ],
   "source": [
    "# To find the intercept b\n",
    "b=model.intercept_\n",
    "print(b)"
   ]
  },
  {
   "cell_type": "markdown",
   "id": "813bf9d7",
   "metadata": {},
   "source": [
    "### Y=mx+b\n",
    "\n",
    "### x is imdependent variable(i.e input-area)"
   ]
  },
  {
   "cell_type": "code",
   "execution_count": 78,
   "id": "c59d38f7",
   "metadata": {},
   "outputs": [
    {
     "name": "stdout",
     "output_type": "stream",
     "text": [
      "The Price of 6660 square feet Land is: 172822\n"
     ]
    }
   ],
   "source": [
    "Y = m * x + b\n",
    "#print(f\"The Price of {x[0]} square feet Land is: {Y[0]}\")\n",
    "\n",
    "print(f\"The Price of {LandAreainSqFt} square feet Land is: {PredictedmodelResult}\")"
   ]
  },
  {
   "cell_type": "markdown",
   "id": "07251d34",
   "metadata": {},
   "source": [
    "## Conclusion"
   ]
  },
  {
   "cell_type": "markdown",
   "id": "23f5c3c4",
   "metadata": {},
   "source": [
    "* The project developed a Linear Regression model to predict house prices based on area, showcasing its simplicity and effectiveness for single-feature analysis in the Ondo City real estate market. While valuable for understanding trends between property size and price, future enhancements could include additional features like location or amenities to improve accuracy. The current model serves as a practical tool for preliminary price estimates."
   ]
  }
 ],
 "metadata": {
  "kernelspec": {
   "display_name": "Python 3 (ipykernel)",
   "language": "python",
   "name": "python3"
  },
  "language_info": {
   "codemirror_mode": {
    "name": "ipython",
    "version": 3
   },
   "file_extension": ".py",
   "mimetype": "text/x-python",
   "name": "python",
   "nbconvert_exporter": "python",
   "pygments_lexer": "ipython3",
   "version": "3.9.12"
  }
 },
 "nbformat": 4,
 "nbformat_minor": 5
}
