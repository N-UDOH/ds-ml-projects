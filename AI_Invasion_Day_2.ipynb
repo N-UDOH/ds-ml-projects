{
 "cells": [
  {
   "cell_type": "markdown",
   "metadata": {
    "id": "8h9kFkzYK3T6"
   },
   "source": [
    "# **The Data Cleaning Process**"
   ]
  },
  {
   "cell_type": "markdown",
   "metadata": {
    "id": "kTC3sUCwKg3G"
   },
   "source": [
    "## Import Libraries"
   ]
  },
  {
   "cell_type": "code",
   "execution_count": 3,
   "metadata": {
    "id": "A65mmh6XKoa5"
   },
   "outputs": [],
   "source": [
    "import pandas as pd\n",
    "import numpy as np"
   ]
  },
  {
   "cell_type": "code",
   "execution_count": 5,
   "metadata": {
    "colab": {
     "base_uri": "https://localhost:8080/",
     "height": 250
    },
    "id": "GnyuktROQFJt",
    "outputId": "e47574db-2a33-4505-87d5-131cc2dcd469"
   },
   "outputs": [
    {
     "data": {
      "text/html": [
       "<div>\n",
       "<style scoped>\n",
       "    .dataframe tbody tr th:only-of-type {\n",
       "        vertical-align: middle;\n",
       "    }\n",
       "\n",
       "    .dataframe tbody tr th {\n",
       "        vertical-align: top;\n",
       "    }\n",
       "\n",
       "    .dataframe thead th {\n",
       "        text-align: right;\n",
       "    }\n",
       "</style>\n",
       "<table border=\"1\" class=\"dataframe\">\n",
       "  <thead>\n",
       "    <tr style=\"text-align: right;\">\n",
       "      <th></th>\n",
       "      <th>Location</th>\n",
       "      <th>Maker</th>\n",
       "      <th>Model</th>\n",
       "      <th>Year</th>\n",
       "      <th>Colour</th>\n",
       "      <th>Amount (Million ₦)</th>\n",
       "      <th>Type</th>\n",
       "      <th>Distance_Km</th>\n",
       "    </tr>\n",
       "  </thead>\n",
       "  <tbody>\n",
       "    <tr>\n",
       "      <th>0</th>\n",
       "      <td>Abuja</td>\n",
       "      <td>Mercedes-Benz</td>\n",
       "      <td>GLA 250</td>\n",
       "      <td>2015.0</td>\n",
       "      <td>Brown</td>\n",
       "      <td>14.50</td>\n",
       "      <td>Foreign Used</td>\n",
       "      <td>50000.0</td>\n",
       "    </tr>\n",
       "    <tr>\n",
       "      <th>1</th>\n",
       "      <td>Abuja</td>\n",
       "      <td>Hyundai</td>\n",
       "      <td>Accent</td>\n",
       "      <td>2013.0</td>\n",
       "      <td>Red</td>\n",
       "      <td>1.55</td>\n",
       "      <td>Nigerian Used</td>\n",
       "      <td>NaN</td>\n",
       "    </tr>\n",
       "    <tr>\n",
       "      <th>2</th>\n",
       "      <td>Lagos</td>\n",
       "      <td>Lexus</td>\n",
       "      <td>GX 460 Premium</td>\n",
       "      <td>2011.0</td>\n",
       "      <td>White</td>\n",
       "      <td>14.00</td>\n",
       "      <td>Foreign Used</td>\n",
       "      <td>85000.0</td>\n",
       "    </tr>\n",
       "    <tr>\n",
       "      <th>3</th>\n",
       "      <td>Lagos</td>\n",
       "      <td>Lexus</td>\n",
       "      <td>ES 350</td>\n",
       "      <td>2011.0</td>\n",
       "      <td>Gray</td>\n",
       "      <td>4.95</td>\n",
       "      <td>Foreign Used</td>\n",
       "      <td>NaN</td>\n",
       "    </tr>\n",
       "    <tr>\n",
       "      <th>4</th>\n",
       "      <td>Ibadan</td>\n",
       "      <td>Toyota</td>\n",
       "      <td>Verso 1.6</td>\n",
       "      <td>2009.0</td>\n",
       "      <td>Silver</td>\n",
       "      <td>1.69</td>\n",
       "      <td>Nigerian Used</td>\n",
       "      <td>118906.0</td>\n",
       "    </tr>\n",
       "  </tbody>\n",
       "</table>\n",
       "</div>"
      ],
      "text/plain": [
       "  Location          Maker           Model    Year  Colour  Amount (Million ₦)  \\\n",
       "0    Abuja  Mercedes-Benz         GLA 250  2015.0   Brown               14.50   \n",
       "1    Abuja        Hyundai          Accent  2013.0     Red                1.55   \n",
       "2    Lagos          Lexus  GX 460 Premium  2011.0   White               14.00   \n",
       "3    Lagos          Lexus          ES 350  2011.0    Gray                4.95   \n",
       "4   Ibadan         Toyota       Verso 1.6  2009.0  Silver                1.69   \n",
       "\n",
       "            Type  Distance_Km  \n",
       "0   Foreign Used      50000.0  \n",
       "1  Nigerian Used          NaN  \n",
       "2   Foreign Used      85000.0  \n",
       "3   Foreign Used          NaN  \n",
       "4  Nigerian Used     118906.0  "
      ]
     },
     "execution_count": 5,
     "metadata": {},
     "output_type": "execute_result"
    }
   ],
   "source": [
    "df = pd.read_csv(\"https://raw.githubusercontent.com/datasciencedojo/datasets/master/titanic.csv\") # note, df is just a \n",
    "# variable name  which was used to store the variable inside\n",
    "df.head()"
   ]
  },
  {
   "cell_type": "code",
   "execution_count": null,
   "metadata": {
    "colab": {
     "base_uri": "https://localhost:8080/"
    },
    "id": "uG0WBAp0QdJu",
    "outputId": "f7fa4d54-d63f-4bb4-ae83-fb65b448fb9a"
   },
   "outputs": [],
   "source": [
    "df.info()"
   ]
  },
  {
   "cell_type": "markdown",
   "metadata": {
    "id": "JLrSLhQVK-RC"
   },
   "source": [
    "## Remove irrelevant data\n"
   ]
  },
  {
   "cell_type": "code",
   "execution_count": null,
   "metadata": {
    "colab": {
     "base_uri": "https://localhost:8080/"
    },
    "id": "_2IcBPfaOxVA",
    "outputId": "32daab32-351b-45fa-db9c-a3307d46308f"
   },
   "outputs": [],
   "source": [
    "df.columns"
   ]
  },
  {
   "cell_type": "code",
   "execution_count": null,
   "metadata": {
    "colab": {
     "base_uri": "https://localhost:8080/",
     "height": 206
    },
    "id": "jFLASOFWoYBL",
    "outputId": "b72e3d91-334d-4b41-c7fe-d714013432fa"
   },
   "outputs": [],
   "source": [
    "# The PassengerId feature a unqiue ID for \n",
    "# the Passenger and so can be removed\n",
    "\n",
    "df = df.drop(\"PassengerId\", axis=1)\n",
    "df.head()"
   ]
  },
  {
   "cell_type": "code",
   "execution_count": null,
   "metadata": {
    "colab": {
     "base_uri": "https://localhost:8080/",
     "height": 206
    },
    "id": "WWM3p33kq1XY",
    "outputId": "9f09abea-94dc-4a70-a1be-8e5ff676e4f5"
   },
   "outputs": [],
   "source": [
    "# The Ticket feature can also be removed\n",
    "df = df.drop(\"Ticket\", axis=1)\n",
    "df.head()"
   ]
  },
  {
   "cell_type": "code",
   "execution_count": null,
   "metadata": {
    "colab": {
     "base_uri": "https://localhost:8080/"
    },
    "id": "G5_PDQInrKqk",
    "outputId": "24ef78a8-3656-4315-9dbc-9a6c14788782"
   },
   "outputs": [],
   "source": [
    "# confimed and make sure all the reqired \n",
    "# columns have been removed\n",
    "df.columns"
   ]
  },
  {
   "cell_type": "markdown",
   "metadata": {
    "id": "9q1T3gfeLFHB"
   },
   "source": [
    "## Deduplicate your data"
   ]
  },
  {
   "cell_type": "code",
   "execution_count": null,
   "metadata": {
    "colab": {
     "base_uri": "https://localhost:8080/"
    },
    "id": "IaidcU3qOyT5",
    "outputId": "827c65a0-b83e-4fd9-e8f0-2e8a8ff85a2c"
   },
   "outputs": [],
   "source": [
    "# check the size of your dataset so you can \n",
    "# keep track of any row or datapoint that was removed\n",
    "df.shape"
   ]
  },
  {
   "cell_type": "code",
   "execution_count": null,
   "metadata": {
    "id": "oOiqvWBxr30h"
   },
   "outputs": [],
   "source": [
    "# Use the \"Name\" columns we will like to removed any\n",
    "# rows with the same Name, that is, we will like to\n",
    "# remove duplicate from our dataser if any\n",
    "\n",
    "# sorting by first\n",
    "df.sort_values(\"Name\", inplace = True)\n",
    " \n",
    "# dropping ALL duplicate values\n",
    "df.drop_duplicates(subset =\"Name\",\n",
    "                     keep = False, inplace = True)"
   ]
  },
  {
   "cell_type": "code",
   "execution_count": null,
   "metadata": {
    "colab": {
     "base_uri": "https://localhost:8080/"
    },
    "id": "4-EhujoeslOy",
    "outputId": "aba4e2fc-7916-439c-b074-de47744d2b76"
   },
   "outputs": [],
   "source": [
    "# check the size againt to know \n",
    "# if any datapoint was removed\n",
    "df.shape"
   ]
  },
  {
   "cell_type": "code",
   "execution_count": null,
   "metadata": {
    "id": "8jyhkxa4szhb"
   },
   "outputs": [],
   "source": [
    "# Since the number of rows in the dataset remained\n",
    "# the same, therefore the dataset doesnot have any duplicate"
   ]
  },
  {
   "cell_type": "markdown",
   "metadata": {
    "id": "cFTvA1JZLMj5"
   },
   "source": [
    "## Fix structural errors"
   ]
  },
  {
   "cell_type": "code",
   "execution_count": null,
   "metadata": {
    "colab": {
     "base_uri": "https://localhost:8080/"
    },
    "id": "ZedsLrU5OzPR",
    "outputId": "0ea9ed9a-64ac-49ee-e45e-bcfedb0efb38"
   },
   "outputs": [],
   "source": [
    "# The main of this section is to rename the different \n",
    "# class in our categorigal feature that were not properly named.\n",
    "# or chanage the data type of a column\n",
    "\n",
    "cat_features = {\n",
    "    \"Sex\",\n",
    "    \"Embarked\",\n",
    "    \"Pclass\"\n",
    "}\n",
    "\n",
    "for cat_feature in cat_features:\n",
    "  print(df[cat_feature].unique())"
   ]
  },
  {
   "cell_type": "markdown",
   "metadata": {
    "id": "zAQNqIU6Oobo"
   },
   "source": [
    "## Deal with missing data"
   ]
  },
  {
   "cell_type": "code",
   "execution_count": null,
   "metadata": {
    "colab": {
     "base_uri": "https://localhost:8080/"
    },
    "id": "3ZoReubAO027",
    "outputId": "09ab5fcd-103d-4204-f2c2-0ba01df94f81"
   },
   "outputs": [],
   "source": [
    "# Firstky we idenity the colunms with\n",
    "# missing values and their count\n",
    "\n",
    "df.isnull().sum()"
   ]
  },
  {
   "cell_type": "code",
   "execution_count": null,
   "metadata": {
    "id": "Iiz-Z-mtwUeX"
   },
   "outputs": [],
   "source": [
    "# Age, Cabin and Embarked all have missing values\n",
    "# Cabin have more than 80% of its values missing so \n",
    "# we will have to remove it\n",
    "\n",
    "df = df.drop(\"Cabin\", axis=1)"
   ]
  },
  {
   "cell_type": "code",
   "execution_count": null,
   "metadata": {
    "colab": {
     "base_uri": "https://localhost:8080/"
    },
    "id": "8U1f1WLoyNMx",
    "outputId": "5e4ff04e-cced-4746-8f72-4648260ea7f5"
   },
   "outputs": [],
   "source": [
    "# For Embarked we can replace the Nan value with the\n",
    "# most frequently occuring class in that feature\n",
    "mode_value = df[\"Embarked\"].mode()[0]\n",
    "print(mode_value)\n",
    "\n",
    "df[\"Embarked\"].fillna(mode_value, inplace=True)"
   ]
  },
  {
   "cell_type": "code",
   "execution_count": null,
   "metadata": {
    "colab": {
     "base_uri": "https://localhost:8080/"
    },
    "id": "3EB80HdNyq2L",
    "outputId": "650e6134-1d12-4c09-cf96-ff66f45f6f27"
   },
   "outputs": [],
   "source": [
    "# For Age we can replace the missing value with the mean Age\n",
    "mean_value = df[\"Age\"].mean()\n",
    "print(mean_value)\n",
    "\n",
    "df[\"Age\"].fillna(mean_value, inplace=True)"
   ]
  },
  {
   "cell_type": "markdown",
   "metadata": {
    "id": "ZnVrORMhOufn"
   },
   "source": [
    "## Filter out data outliers"
   ]
  },
  {
   "cell_type": "code",
   "execution_count": null,
   "metadata": {
    "colab": {
     "base_uri": "https://localhost:8080/",
     "height": 334
    },
    "id": "94X0g53_O19T",
    "outputId": "af4ea12d-5f6a-40b9-ee99-04f737e41f7f"
   },
   "outputs": [],
   "source": [
    "# Using the Box plot we can check our dataset\n",
    "# to know if we have any outliers\n",
    "# We are checking the Fare column to see if\n",
    "# any of the prices are expectional higher than\n",
    "# the rest \n",
    "\n",
    "import seaborn as sns\n",
    "sns.boxplot(df['Fare']);"
   ]
  },
  {
   "cell_type": "code",
   "execution_count": null,
   "metadata": {
    "id": "SA-k9yjIOtiM"
   },
   "outputs": [],
   "source": [
    "#TODO: Remove the outlier based on the Fare Column"
   ]
  },
  {
   "cell_type": "code",
   "execution_count": null,
   "metadata": {
    "id": "geXOFgG1LJRs"
   },
   "outputs": [],
   "source": []
  }
 ],
 "metadata": {
  "colab": {
   "collapsed_sections": [],
   "name": "AI Invasion - Day 2.ipynb",
   "provenance": []
  },
  "kernelspec": {
   "display_name": "Python 3 (ipykernel)",
   "language": "python",
   "name": "python3"
  },
  "language_info": {
   "codemirror_mode": {
    "name": "ipython",
    "version": 3
   },
   "file_extension": ".py",
   "mimetype": "text/x-python",
   "name": "python",
   "nbconvert_exporter": "python",
   "pygments_lexer": "ipython3",
   "version": "3.9.12"
  }
 },
 "nbformat": 4,
 "nbformat_minor": 1
}
